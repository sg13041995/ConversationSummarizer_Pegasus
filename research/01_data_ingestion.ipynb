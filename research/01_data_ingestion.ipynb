{
 "cells": [
  {
   "cell_type": "code",
   "execution_count": 1,
   "metadata": {},
   "outputs": [],
   "source": [
    "import os"
   ]
  },
  {
   "cell_type": "code",
   "execution_count": 2,
   "metadata": {},
   "outputs": [
    {
     "data": {
      "text/plain": [
       "'e:\\\\LFS\\\\Projects\\\\DS_AI_ML_DL\\\\NLP\\\\TextSummarization\\\\NLP_TextSummarizer\\\\research'"
      ]
     },
     "execution_count": 2,
     "metadata": {},
     "output_type": "execute_result"
    }
   ],
   "source": [
    "%pwd"
   ]
  },
  {
   "cell_type": "markdown",
   "metadata": {},
   "source": [
    "Current directory need to be changed to NLP_TextSummarizer\n",
    "\n",
    "So, need to navigate one folder back"
   ]
  },
  {
   "cell_type": "code",
   "execution_count": 3,
   "metadata": {},
   "outputs": [],
   "source": [
    "os.chdir(\"../\")"
   ]
  },
  {
   "cell_type": "code",
   "execution_count": 4,
   "metadata": {},
   "outputs": [
    {
     "data": {
      "text/plain": [
       "'e:\\\\LFS\\\\Projects\\\\DS_AI_ML_DL\\\\NLP\\\\TextSummarization\\\\NLP_TextSummarizer'"
      ]
     },
     "execution_count": 4,
     "metadata": {},
     "output_type": "execute_result"
    }
   ],
   "source": [
    "%pwd"
   ]
  },
  {
   "cell_type": "markdown",
   "metadata": {},
   "source": [
    "**Python Regular Class vs Data Class**\n",
    "\n",
    "In Python, both regular classes and data classes serve as blueprints for creating objects. However, they have different purposes and functionalities. Here's a comparison between the two:\n",
    "\n",
    "Regular Classes:\n",
    "\n",
    "- Regular classes are the traditional way of defining classes in Python.\n",
    "- You manually define the __init__ method to initialize object attributes.\n",
    "- You also need to define other special methods (e.g., __str__, __repr__, __eq__, etc.) for customizing object behavior.\n",
    "Regular classes provide full flexibility and can be customized extensively.\n",
    "\n",
    "Data Classes (introduced in Python 3.7):\n",
    "\n",
    "- Data classes provide a concise way of declaring classes primarily meant to store data.\n",
    "- They automatically generate special methods such as __init__, __repr__, __eq__, etc., based on class attributes.\n",
    "- Data classes are created using the @dataclass decorator from the dataclasses module.\n",
    "- They are ideal for representing data structures where you mainly need to store data and perform operations such as comparison, hashing, etc."
   ]
  },
  {
   "cell_type": "markdown",
   "metadata": {},
   "source": [
    "**Defining entity**\n",
    "- Entity is nothing but the return type or the structure of the return type of a function"
   ]
  },
  {
   "cell_type": "code",
   "execution_count": 5,
   "metadata": {},
   "outputs": [],
   "source": [
    "from dataclasses import dataclass\n",
    "from pathlib import Path\n",
    "\n",
    "@dataclass(frozen=True)\n",
    "class DataIngestionConfig:\n",
    "    root_dir: Path\n",
    "    source_URL: str\n",
    "    local_data_file: Path\n",
    "    unzip_dir: Path"
   ]
  },
  {
   "cell_type": "markdown",
   "metadata": {},
   "source": [
    "Defining `ConfigurationManager` class\n",
    "\n",
    "This will create the major artifacts folder\n",
    "\n",
    "This will also help to retrieve the configurations of different sections like data_ingestion, training etc."
   ]
  },
  {
   "cell_type": "code",
   "execution_count": 12,
   "metadata": {},
   "outputs": [],
   "source": [
    "# importing constants => paths of config.yaml and params.yaml files\n",
    "from TextSummarizer.constants import *\n",
    "\n",
    "# importing utility functions from utils folder, common.py file\n",
    "from TextSummarizer.utils.common import read_yaml, create_directories\n",
    "\n",
    "class ConfigurationManager:\n",
    "    # constructor\n",
    "    def __init__(\n",
    "        self,\n",
    "        # paths to yaml files for reading their content\n",
    "        config_filepath = CONFIG_FILE_PATH,\n",
    "        params_filepath = PARAMS_FILE_PATH\n",
    "        ):\n",
    "        \n",
    "        # reading content from both the yaml files\n",
    "        self.config = read_yaml(config_filepath)\n",
    "        self.params = read_yaml(params_filepath)\n",
    "\n",
    "        # creating root artifacts folder\n",
    "        # from config.yaml => getting artifacts_root value\n",
    "        # self.config.artifacts_root is same as => self.config[\"artifacts_root\"] \n",
    "        create_directories([self.config.artifacts_root])\n",
    "    \n",
    "    # method for data_ingestion \n",
    "    # return datatype is DataIngestionConfig\n",
    "    def get_data_ingestion_config(self) -> DataIngestionConfig:\n",
    "        # reading => data_ingestion config\n",
    "        config = self.config.data_ingestion\n",
    "\n",
    "        # creating directory using config.root_dir => artifacts/data_ingestion\n",
    "        create_directories([config.root_dir])\n",
    "\n",
    "        # constructing return details related to the data_ingestion from => config.yaml data_ingestion section\n",
    "        data_ingestion_config = DataIngestionConfig(\n",
    "            root_dir=config.root_dir,\n",
    "            source_URL=config.source_URL,\n",
    "            local_data_file=config.local_data_file,\n",
    "            unzip_dir=config.unzip_dir \n",
    "        )\n",
    "\n",
    "        return data_ingestion_config"
   ]
  },
  {
   "cell_type": "markdown",
   "metadata": {},
   "source": [
    "Now we will create the components related to data_ingestion\n",
    "\n",
    "We will utilize the details returned by `get_data_ingestion_config` method of dtype (class) DataIngestionConfig"
   ]
  },
  {
   "cell_type": "markdown",
   "metadata": {},
   "source": [
    "Creating class to handle data ingestion tasks"
   ]
  },
  {
   "cell_type": "code",
   "execution_count": 14,
   "metadata": {},
   "outputs": [],
   "source": [
    "import os\n",
    "# to download the zipped data file using the URL\n",
    "import urllib.request as request\n",
    "import zipfile\n",
    "# custom logger module\n",
    "from TextSummarizer.logging import logger\n",
    "# custom utility function\n",
    "from TextSummarizer.utils.common import get_size\n",
    "\n",
    "class DataIngestion:\n",
    "    def __init__(self, config: DataIngestionConfig):\n",
    "        self.config = config\n",
    "   \n",
    "    # method to download the data using provided URL\n",
    "    def download_file(self):\n",
    "        if not os.path.exists(self.config.local_data_file):\n",
    "            filename, headers = request.urlretrieve(\n",
    "                url = self.config.source_URL,\n",
    "                filename = self.config.local_data_file\n",
    "            )\n",
    "            logger.info(f\"{filename} download! with following info: \\n{headers}\")\n",
    "        else:\n",
    "            logger.info(f\"File already exists of size: {get_size(Path(self.config.local_data_file))}\")  \n",
    "\n",
    "    # extracting the downloaded zip file\n",
    "    def extract_zip_file(self):\n",
    "        \"\"\"\n",
    "        zip_file_path: str\n",
    "        Extracts the zip file into the data directory\n",
    "        Function returns None\n",
    "        \"\"\"\n",
    "        # getting unzip dir path\n",
    "        unzip_path = self.config.unzip_dir\n",
    "        # creating unzip dir\n",
    "        os.makedirs(unzip_path, exist_ok=True)\n",
    "        with zipfile.ZipFile(self.config.local_data_file, 'r') as zip_ref:\n",
    "            zip_ref.extractall(unzip_path)"
   ]
  },
  {
   "cell_type": "markdown",
   "metadata": {},
   "source": [
    "Creating the data_ingestion pipeline"
   ]
  },
  {
   "cell_type": "code",
   "execution_count": 15,
   "metadata": {},
   "outputs": [
    {
     "name": "stdout",
     "output_type": "stream",
     "text": [
      "[2024-02-19 19:09:24,336: INFO: common: yaml file: config\\config.yaml loaded successfully]\n"
     ]
    },
    {
     "name": "stdout",
     "output_type": "stream",
     "text": [
      "[2024-02-19 19:09:24,392: INFO: common: yaml file: params.yaml loaded successfully]\n",
      "[2024-02-19 19:09:24,403: INFO: common: created directory at: artifacts]\n",
      "[2024-02-19 19:09:24,407: INFO: common: created directory at: artifacts/data_ingestion]\n",
      "[2024-02-19 19:09:26,669: INFO: 2796860190: artifacts/data_ingestion/data.zip download! with following info: \n",
      "Connection: close\n",
      "Content-Length: 7903594\n",
      "Cache-Control: max-age=300\n",
      "Content-Security-Policy: default-src 'none'; style-src 'unsafe-inline'; sandbox\n",
      "Content-Type: application/zip\n",
      "ETag: \"dbc016a060da18070593b83afff580c9b300f0b6ea4147a7988433e04df246ca\"\n",
      "Strict-Transport-Security: max-age=31536000\n",
      "X-Content-Type-Options: nosniff\n",
      "X-Frame-Options: deny\n",
      "X-XSS-Protection: 1; mode=block\n",
      "X-GitHub-Request-Id: 16A8:0939:22E59:2E37C:65D359FA\n",
      "Accept-Ranges: bytes\n",
      "Date: Mon, 19 Feb 2024 13:39:25 GMT\n",
      "Via: 1.1 varnish\n",
      "X-Served-By: cache-del21747-DEL\n",
      "X-Cache: MISS\n",
      "X-Cache-Hits: 0\n",
      "X-Timer: S1708349965.257195,VS0,VE522\n",
      "Vary: Authorization,Accept-Encoding,Origin\n",
      "Access-Control-Allow-Origin: *\n",
      "Cross-Origin-Resource-Policy: cross-origin\n",
      "X-Fastly-Request-ID: 41a1643826e291e95f79714a89caf79bc8619b59\n",
      "Expires: Mon, 19 Feb 2024 13:44:25 GMT\n",
      "Source-Age: 0\n",
      "\n",
      "]\n"
     ]
    }
   ],
   "source": [
    "try:\n",
    "    config = ConfigurationManager()\n",
    "    data_ingestion_config = config.get_data_ingestion_config()\n",
    "    data_ingestion = DataIngestion(config=data_ingestion_config)\n",
    "    data_ingestion.download_file()\n",
    "    data_ingestion.extract_zip_file()\n",
    "except Exception as e:\n",
    "    raise e"
   ]
  }
 ],
 "metadata": {
  "kernelspec": {
   "display_name": "textSum",
   "language": "python",
   "name": "python3"
  },
  "language_info": {
   "codemirror_mode": {
    "name": "ipython",
    "version": 3
   },
   "file_extension": ".py",
   "mimetype": "text/x-python",
   "name": "python",
   "nbconvert_exporter": "python",
   "pygments_lexer": "ipython3",
   "version": "3.10.11"
  }
 },
 "nbformat": 4,
 "nbformat_minor": 2
}
